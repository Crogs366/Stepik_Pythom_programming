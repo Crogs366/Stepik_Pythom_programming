{
 "metadata": {
  "language_info": {
   "codemirror_mode": {
    "name": "ipython",
    "version": 3
   },
   "file_extension": ".py",
   "mimetype": "text/x-python",
   "name": "python",
   "nbconvert_exporter": "python",
   "pygments_lexer": "ipython3",
   "version": 3
  },
  "orig_nbformat": 2
 },
 "nbformat": 4,
 "nbformat_minor": 2,
 "cells": [
  {
   "cell_type": "code",
   "execution_count": null,
   "metadata": {},
   "outputs": [],
   "source": [
    "\"\"\"Список чисел\n",
    "На вход программе подается одно число nn. Напишите программу, которая выводит список [1, 2, 3, ..., n].\n",
    "\n",
    "Формат входных данных\n",
    "На вход программе подается одно натуральное число.\"\"\"\n",
    "\n",
    "a = int(input())\n",
    "print(list(range(1, a+1)))"
   ]
  },
  {
   "cell_type": "code",
   "execution_count": null,
   "metadata": {},
   "outputs": [],
   "source": [
    "\"\"\"Список букв\n",
    "На вход программе подается одно число nn. Напишите программу, которая выводит список, состоящий из nn букв английского алфавита ['a', 'b', 'c', ...] в нижнем регистре.\n",
    "\n",
    "Формат входных данных\n",
    "На вход программе подается натуральное число n, n ≤ 26.\"\"\"\n",
    "\n",
    "a = int(input())\n",
    "alphabet = 'abcdefghijklmnopqrstuvwxyz'\n",
    "print(list(alphabet[:a]))"
   ]
  }
 ]
}