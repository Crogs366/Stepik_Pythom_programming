{
 "metadata": {
  "language_info": {
   "codemirror_mode": {
    "name": "ipython",
    "version": 3
   },
   "file_extension": ".py",
   "mimetype": "text/x-python",
   "name": "python",
   "nbconvert_exporter": "python",
   "pygments_lexer": "ipython3",
   "version": 3
  },
  "orig_nbformat": 2
 },
 "nbformat": 4,
 "nbformat_minor": 2,
 "cells": [
  {
   "cell_type": "code",
   "execution_count": null,
   "metadata": {},
   "outputs": [],
   "source": [
    "\"\"\"Все сразу 2 🌶️\n",
    "Дополните приведенный код, чтобы он:\n",
    "\n",
    "Заменил второй элемент списка на 17;\n",
    "Добавил числа 4, 5 и 6 в конец списка;\n",
    "Удалил первый элемент списка;\n",
    "Удвоил список;\n",
    "Вставил число 25 по индексу 3;\n",
    "Вывел список, с помощью функции print().\"\"\"\n",
    "\n",
    "numbers = [8, 9, 10, 11]\n",
    "\n",
    "numbers[1] = 17\n",
    "numbers.extend([4, 5, 6])\n",
    "del numbers[0]\n",
    "numbers *= 2\n",
    "numbers.insert(3, 25)\n",
    "print(numbers)"
   ]
  },
  {
   "cell_type": "code",
   "execution_count": null,
   "metadata": {},
   "outputs": [],
   "source": [
    "\"\"\"Переставить min и max\n",
    "На вход программе подается строка текста, содержащая различные натуральные числа. Из данной строки формируется список чисел. Напишите программу, которая меняет местами минимальный и максимальный элемент этого списка.\n",
    "\n",
    "Формат входных данных\n",
    "На вход программе подается строка текста, содержащая различные натуральные числа, разделенные символом пробела.\"\"\"\n",
    "\n",
    "numbers = input().split()\n",
    "for i in range(len(numbers)):\n",
    "    numbers[i] = int(numbers[i])\n",
    "if len(numbers) == 1:\n",
    "    print(*numbers)\n",
    "else:\n",
    "    min = min(numbers)\n",
    "    max = max(numbers)\n",
    "    positionmin = numbers.index(min)\n",
    "    positionmax = numbers.index(max)\n",
    "    numbers.remove(min)\n",
    "    numbers.remove(max)\n",
    "    numbers.insert(positionmin, max)\n",
    "    numbers.insert(positionmax, min)\n",
    "    print(*numbers)"
   ]
  },
  {
   "cell_type": "code",
   "execution_count": null,
   "metadata": {},
   "outputs": [],
   "source": [
    "\"\"\"Количество артиклей\n",
    "На вход программе подается строка, содержащая английский текст. Напишите программу, которая подсчитывает общее количество артиклей: 'a', 'an', 'the'.\n",
    "\n",
    "Формат входных данных\n",
    "На вход программе подается строка, содержащая английский текст. Слова текста разделены символом пробела.\"\"\"\n",
    "\n",
    "numbers = input().lower().split()\n",
    "cnt = 0\n",
    "cnt += numbers.count('a')\n",
    "cnt += numbers.count('an')\n",
    "cnt += numbers.count('the')\n",
    "cnt += numbers.count('A')\n",
    "cnt += numbers.count('An')\n",
    "cnt += numbers.count('The')\n",
    "print('Общее количество артиклей:', cnt)"
   ]
  },
  {
   "cell_type": "code",
   "execution_count": null,
   "metadata": {},
   "outputs": [],
   "source": [
    "\"\"\"Взлом Братства Стали 🌶️\n",
    "Немалоизвестный в пустошах Мохаве Курьер забрел в Хидден-Вэли – секретный бункер Братства Стали, и любезно соглашается помочь им в решении их проблем. Одной из такой проблем являлся странный компьютерный вирус, который проявлялся в виде появления комментариев к программам на терминалах Братства Стали. Известно, что программисты Братства никогда не оставляют комментарии к коду, и пишут программы на Python, поэтому удаление всех этих комментариев никак не навредит им. Помогите писцу Ибсену удалить все комментарии из программы.\n",
    "\n",
    "Формат входных данных\n",
    "На первой строке вводится символ решётки и сразу же натуральное число n — количество строк в программе, не считая первой. Далее следует n строк кода.\"\"\"\n",
    "\n",
    "number = input()\n",
    "b = ''\n",
    "for i in range(int(number[1:])):\n",
    "    s = input()\n",
    "    if '#' in s:\n",
    "        a = s.find('#')\n",
    "        b = s[0:a-1]\n",
    "        print(b.rstrip())\n",
    "    else:\n",
    "        print(s)"
   ]
  },
  {
   "cell_type": "code",
   "execution_count": null,
   "metadata": {},
   "outputs": [],
   "source": [
    "\"\"\"Сортировка чисел\n",
    "На вход программе подается строка текста, содержащая целые числа. Из данной строки формируется список чисел. Напишите программу, которая сортирует и выводит данный список сначала по возрастанию, а затем по убыванию. \n",
    "\n",
    "Формат входных данных\n",
    "На вход программе подается строка текста, содержащая целые числа, разделенные символом пробела.\"\"\"\n",
    "\n",
    "number = input().split()\n",
    "for i, item in enumerate(number):\n",
    "    number[i] = int(item)\n",
    "number.sort()\n",
    "print(*number)\n",
    "number.sort(reverse = True)\n",
    "print(*number)"
   ]
  }
 ]
}