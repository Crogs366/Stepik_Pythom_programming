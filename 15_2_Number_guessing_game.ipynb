{
 "cells": [
  {
   "cell_type": "code",
   "execution_count": 8,
   "metadata": {
    "tags": []
   },
   "outputs": [
    {
     "output_type": "stream",
     "name": "stdout",
     "text": "Добро пожаловать в числовую угадайку\nА может быть все-таки введем целое число от 1 до 100?\nА может быть все-таки введем целое число от 1 до 100?\nВаше число меньше загаданного, попробуйте еще разок\nВаше число больше загаданного, попробуйте еще разок\nВаше число меньше загаданного, попробуйте еще разок\nВаше число меньше загаданного, попробуйте еще разок\nВаше число больше загаданного, попробуйте еще разок\nВы угадали, поздравляем! Вам понадобилось вот столько попыток: 6\nНеобходимо ввести да или нет\n"
    },
    {
     "output_type": "error",
     "ename": "NameError",
     "evalue": "name 'new_gane' is not defined",
     "traceback": [
      "\u001b[1;31m---------------------------------------------------------------------------\u001b[0m",
      "\u001b[1;31mNameError\u001b[0m                                 Traceback (most recent call last)",
      "\u001b[1;32m<ipython-input-8-5357752b0992>\u001b[0m in \u001b[0;36m<module>\u001b[1;34m\u001b[0m\n\u001b[0;32m     35\u001b[0m                         \u001b[0mnum\u001b[0m \u001b[1;33m=\u001b[0m \u001b[1;34m''\u001b[0m\u001b[1;33m\u001b[0m\u001b[1;33m\u001b[0m\u001b[0m\n\u001b[0;32m     36\u001b[0m                         \u001b[0mnew\u001b[0m \u001b[1;33m=\u001b[0m \u001b[1;34m'да'\u001b[0m\u001b[1;33m\u001b[0m\u001b[1;33m\u001b[0m\u001b[0m\n\u001b[1;32m---> 37\u001b[1;33m                     \u001b[1;32melif\u001b[0m \u001b[0mnew_gane\u001b[0m\u001b[1;33m.\u001b[0m\u001b[0mlower\u001b[0m\u001b[1;33m(\u001b[0m\u001b[1;33m)\u001b[0m \u001b[1;33m==\u001b[0m \u001b[1;34m'нет'\u001b[0m\u001b[1;33m:\u001b[0m\u001b[1;33m\u001b[0m\u001b[1;33m\u001b[0m\u001b[0m\n\u001b[0m\u001b[0;32m     38\u001b[0m                         \u001b[1;32mbreak\u001b[0m\u001b[1;33m\u001b[0m\u001b[1;33m\u001b[0m\u001b[0m\n\u001b[0;32m     39\u001b[0m                 \u001b[1;32melse\u001b[0m\u001b[1;33m:\u001b[0m\u001b[1;33m\u001b[0m\u001b[1;33m\u001b[0m\u001b[0m\n",
      "\u001b[1;31mNameError\u001b[0m: name 'new_gane' is not defined"
     ]
    }
   ],
   "source": [
    "import random\n",
    "\n",
    "answer = random.randrange(1, 100)\n",
    "\n",
    "print('Добро пожаловать в числовую угадайку')\n",
    "\n",
    "def is_valid_number(number): \n",
    "    return number.isdigit() and 1 < int(number) < 100\n",
    "    \"\"\" Входит-ли введённое число в диапозон. \"\"\"\n",
    "    \n",
    "def is_valid_game(game):\n",
    "    return game.lower() == 'да' or game.lower() == 'нет'\n",
    "    \"\"\" Проверяем ввод новой игры. \"\"\"\n",
    "    \n",
    "num = ''\n",
    "count = 0\n",
    "while num != answer:   \n",
    "    num = input('Введите число от 1 до 100')\n",
    "    if is_valid_number(num) == True:\n",
    "        count +=1\n",
    "        num = int(num)\n",
    "        if num < answer:\n",
    "            print('Ваше число меньше загаданного, попробуйте еще разок')\n",
    "        elif num > answer:\n",
    "            print('Ваше число больше загаданного, попробуйте еще разок')\n",
    "        elif num == answer:\n",
    "            new = ''\n",
    "            print('Вы угадали, поздравляем! Вам понадобилось вот столько попыток:', count)\n",
    "            while new != 'да':\n",
    "                new_game = input('Хотите сыграть еще раз? Введите да или нет')\n",
    "                if is_valid_game(new_game) == True:\n",
    "                    if new_game.lower() == 'да':        #  начало новой игры\n",
    "                        count = 0\n",
    "                        answer = random.randrange(1, 100)\n",
    "                        num = ''\n",
    "                        new = 'да'\n",
    "                    elif new_game.lower() == 'нет':\n",
    "                        break\n",
    "                else:\n",
    "                    print('Необходимо ввести да или нет')\n",
    "    else:\n",
    "        print('А может быть все-таки введем целое число от 1 до 100?')\n",
    "print('Спасибо, что играли в числовую угадайку. Еще увидимся...')"
   ]
  }
 ],
 "metadata": {
  "language_info": {
   "codemirror_mode": {
    "name": "ipython",
    "version": 3
   },
   "file_extension": ".py",
   "mimetype": "text/x-python",
   "name": "python",
   "nbconvert_exporter": "python",
   "pygments_lexer": "ipython3",
   "version": "3.8.2-final"
  },
  "orig_nbformat": 2,
  "kernelspec": {
   "name": "python38232bit3db169014aea48db84573a3599a11904",
   "display_name": "Python 3.8.2 32-bit"
  }
 },
 "nbformat": 4,
 "nbformat_minor": 2
}