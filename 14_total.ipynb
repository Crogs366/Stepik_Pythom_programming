{
 "metadata": {
  "language_info": {
   "codemirror_mode": {
    "name": "ipython",
    "version": 3
   },
   "file_extension": ".py",
   "mimetype": "text/x-python",
   "name": "python",
   "nbconvert_exporter": "python",
   "pygments_lexer": "ipython3",
   "version": 3
  },
  "orig_nbformat": 2
 },
 "nbformat": 4,
 "nbformat_minor": 2,
 "cells": [
  {
   "cell_type": "code",
   "execution_count": null,
   "metadata": {},
   "outputs": [],
   "source": [
    "\"\"\"Звездный треугольник 🌶️\n",
    "Напишите функцию draw_triangle(), которая выводит звездный равнобедренный треугольник с основанием и высотой равными 15 и 88 соответственно:\"\"\"\n",
    "\n",
    "# объявление функции\n",
    "def draw_triangle():\n",
    "    n = 15\n",
    "    for i in range(1, n+1, 2):\n",
    "        x = (n - 1 * i) // 2 \n",
    "        print(' ' * x + '*' * i)\n",
    "\n",
    "# основная программа\n",
    "draw_triangle()  # вызов функции"
   ]
  },
  {
   "cell_type": "code",
   "execution_count": null,
   "metadata": {},
   "outputs": [],
   "source": [
    "\"\"\"Калькулятор доставки\n",
    "Интернет магазин осуществляет экспресс доставку для своих товаров по цене 1000 рублей за первый товар и 120 рублей за каждый последующий товар. Напишите функцию get_shipping_cost(quantity), которая принимает в качестве аргумента натуральное число quantity – количество товаров в заказе и возвращает стоимость доставки.\"\"\"\n",
    "\n",
    "# объявление функции\n",
    "def get_shipping_cost(quantity):\n",
    "    if quantity == 1:\n",
    "        return 1000\n",
    "    else:\n",
    "        return 1000 + 120 * (quantity - 1)\n",
    "\n",
    "# считываем данные\n",
    "n = int(input())\n",
    "\n",
    "# вызываем функцию\n",
    "print(get_shipping_cost(n))"
   ]
  },
  {
   "cell_type": "code",
   "execution_count": null,
   "metadata": {},
   "outputs": [],
   "source": [
    "\"\"\"Биномиальный коэффициент 🌶️\n",
    "Напишите функцию compute_binom(n, k), которая принимает в качестве аргументов два натуральных числа n и k и возвращает значение биномиального коэффициента, равного {n!}/{k! (n-k)!} \"\"\"\n",
    "\n",
    "from math import *\n",
    "\n",
    "# объявление функции\n",
    "def compute_binom(n, k):\n",
    "    return int(factorial(n)/(factorial(k) * factorial(n - k)))\n",
    "\n",
    "# считываем данные\n",
    "n = int(input())\n",
    "k = int(input())\n",
    "\n",
    "# вызываем функцию\n",
    "print(compute_binom(n, k))"
   ]
  },
  {
   "cell_type": "code",
   "execution_count": null,
   "metadata": {},
   "outputs": [],
   "source": [
    "\"\"\" Число словами 🌶️\n",
    "Напишите функцию number_to_words(num), которая принимает в качестве аргумента натуральное число num и возвращает его словесное описание на русском языке.\"\"\"\n",
    "\n",
    "se = ['','один', 'два', 'три', 'четыре', 'пять', 'шесть', 'семь', 'восемь', 'девять', 'десять', 'одиннадцать', 'двенадцать', 'тринадцать', 'четырнадцать', 'пятнадцать', 'шестнадцать', 'семнадцать', 'восемнадцать', 'девятнадцать']\n",
    "sd = ['', '', 'двадцать', 'тридцать', 'сорок', 'пятьдесят', 'шестьдесят', 'семьдесят', 'восемьдесят', 'девяносто']\n",
    "\n",
    "# объявление функции\n",
    "def number_to_words(num):\n",
    "    if n < 20:\n",
    "        e = n % 20\n",
    "        return se[e]\n",
    "    else:\n",
    "        e = n % 10\n",
    "        d = n // 10\n",
    "        return sd[d] + ' ' + se[e]\n",
    "\n",
    "# считываем данные\n",
    "n = int(input())\n",
    "\n",
    "# вызываем функцию\n",
    "print(number_to_words(n))"
   ]
  },
  {
   "cell_type": "code",
   "execution_count": null,
   "metadata": {},
   "outputs": [],
   "source": [
    "\"\"\"Искомый месяц\n",
    "Напишите функцию get_month(language, number), которая принимает на вход два аргумента language – язык ru или en и number – номер месяца (от 1 до 12) и возвращает название месяца на русском или английском языке.\"\"\"\n",
    "\n",
    "lng_ru = ['январь', 'февраль', 'март', 'апрель', 'май', 'июнь', 'июль', 'август', 'сентябрь', 'октябрь', 'ноябрь', 'декабрь']\n",
    "\n",
    "lng_en = ['january', 'february', 'march', 'april', 'may', 'june', 'july', 'august', 'september', 'october', 'november', 'december']\n",
    "\n",
    "# объявление функции\n",
    "def get_month(language, number):\n",
    "    if language == 'ru':\n",
    "        return lng_ru[number-1]\n",
    "    if language == 'en':\n",
    "        return lng_en[number-1]\n",
    "\n",
    "# считываем данные\n",
    "lan = input()\n",
    "num = int(input())\n",
    "\n",
    "# вызываем функцию\n",
    "print(get_month(lan, num))"
   ]
  },
  {
   "cell_type": "code",
   "execution_count": null,
   "metadata": {},
   "outputs": [],
   "source": [
    "\"\"\"Магические даты\n",
    "Магическая дата – это дата, когда день, умноженный на месяц, равен числу образованному последними двумя цифрами года.\n",
    "\n",
    "Напишите функцию, is_magic(date) которая принимает в качестве аргумента строковое представление корректой даты и возвращает значение True если дата является магической и False в противном случае.\"\"\"\n",
    "\n",
    "# объявление функции\n",
    "def is_magic(date):\n",
    "    list = date.split('.')\n",
    "    if int(list[0]) * int(list[1]) == int(list[2]) % 100:\n",
    "        return True\n",
    "    else:\n",
    "        return False\n",
    "\n",
    "# считываем данные\n",
    "date = input()\n",
    "\n",
    "# вызываем функцию\n",
    "print(is_magic(date))"
   ]
  },
  {
   "cell_type": "code",
   "execution_count": null,
   "metadata": {},
   "outputs": [],
   "source": [
    "\"\"\"Панграммы\n",
    "Панграмма – это фраза, содержащая в себе все буквы алфавита. Обычно панграммы используют для презентации шрифтов, чтобы можно было в одной фразе рассмотреть все глифы.\n",
    "\n",
    "Напишите функцию, is_pangram(text) которая принимает в качестве аргумента строку текста на английском языке и возвращает значение True если текст является панграммой и False в противном случае.\"\"\"\n",
    "\n",
    "alphabet = ['a', 'b', 'c', 'd', 'e', 'f', 'g', 'h', 'i', 'j', 'k', 'l', 'm', 'n', 'o', 'p', 'q', 'r', 's', 't', 'u', 'v', 'w', 'x', 'y', 'z']\n",
    " \n",
    "# объявление функции\n",
    "def is_pangram(text):\n",
    "    Flag = True\n",
    "    for i in alphabet:\n",
    "        if i not in text.lower():\n",
    "            Flag = False\n",
    "    return Flag\n",
    "\n",
    "# считываем данные\n",
    "text = input()\n",
    "\n",
    "# вызываем функцию\n",
    "print(is_pangram(text))"
   ]
  }
 ]
}