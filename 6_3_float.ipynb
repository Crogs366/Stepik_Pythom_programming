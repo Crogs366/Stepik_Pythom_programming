{
 "metadata": {
  "language_info": {
   "codemirror_mode": {
    "name": "ipython",
    "version": 3
   },
   "file_extension": ".py",
   "mimetype": "text/x-python",
   "name": "python",
   "nbconvert_exporter": "python",
   "pygments_lexer": "ipython3",
   "version": "3.8.2-final"
  },
  "orig_nbformat": 2,
  "kernelspec": {
   "name": "python38232bit3db169014aea48db84573a3599a11904",
   "display_name": "Python 3.8.2 32-bit"
  }
 },
 "nbformat": 4,
 "nbformat_minor": 2,
 "cells": [
  {
   "cell_type": "code",
   "execution_count": 1,
   "metadata": {
    "tags": []
   },
   "outputs": [
    {
     "output_type": "stream",
     "name": "stdout",
     "text": "\"Python is a great language!\", said Fred. \"I don't ever remember having this much fun before.\"\n"
    }
   ],
   "source": [
    "\"\"\"Напишите программу, которая выводит текст:\n",
    "\n",
    "\"Python is a great language!\", said Fred. \"I don't ever remember having this much fun before.\"\n",
    "\n",
    "Примечание. Используйте конкатенацию строк.\"\"\"\n",
    "\n",
    "print('\"Python is a great language!\"'+ ', said Fred.', '''\"I don't ever remember having this much fun before.\"''')"
   ]
  },
  {
   "cell_type": "code",
   "execution_count": null,
   "metadata": {},
   "outputs": [],
   "source": [
    "\"\"\"What's Your Name?\n",
    "Напишите программу, которая считывает с клавиатуры две строки – имя и фамилию пользователя и выводит фразу:\n",
    "\n",
    "«Hello [введенное имя] [введенная фамилия]! You just delved into Python».\n",
    "\n",
    "Формат входных данных\n",
    "На вход программе подаётся две строки (имя и фамилия), каждая на отдельной строке.\"\"\"\n",
    "\n",
    "print('Hello', input(), input() + '!', 'You just delved into Python')"
   ]
  },
  {
   "cell_type": "code",
   "execution_count": null,
   "metadata": {},
   "outputs": [],
   "source": [
    "\"\"\"Футбольная команда\n",
    "Напишите программу, которая считывает с клавиатуры название футбольной команды и выводит фразу:\n",
    "\n",
    "«Футбольная команда [введённая строка] имеет длину [длина введённой строки] символов».\n",
    "\n",
    "Формат входных данных\n",
    "На вход программе подаётся строка – название футбольной команды.\"\"\"\n",
    "\n",
    "word = input()\n",
    "a = len(word)\n",
    "print('Футбольная команда', word, 'имеет длину', a, 'символов')\n"
   ]
  },
  {
   "cell_type": "code",
   "execution_count": null,
   "metadata": {},
   "outputs": [],
   "source": [
    "\"\"\"Три города\n",
    "Даны названия трех городов. Напишите программу, которая определяет самое короткое и самое длинное название города.\n",
    "\n",
    "Формат входных данных\n",
    "На вход программе подаётся названия трех городов, каждое на отдельной строке.\n",
    "\n",
    "Примечание. Гарантируется, что длины названий всех трех городов различны.\"\"\"\n",
    "\n",
    "from math import *\n",
    "\n",
    "a, b, c = input(), input(), input()\n",
    "a2 = len(a)\n",
    "b2 = len(b)\n",
    "c2 = len(c)\n",
    "min = min(a2, b2, c2)\n",
    "max = max(a2, b2, c2)\n",
    "if min == a2:\n",
    "    print(a)\n",
    "elif min == b2:\n",
    "    print(b)\n",
    "elif min == c2:\n",
    "    print(c)\n",
    "if max == a2:\n",
    "    print(a)\n",
    "elif max == b2:\n",
    "    print(b)\n",
    "elif max == c2:\n",
    "    print(c)"
   ]
  },
  {
   "cell_type": "code",
   "execution_count": null,
   "metadata": {},
   "outputs": [],
   "source": [
    "\"\"\"Арифметические строки\n",
    "Вводятся 3 строки в случайном порядке. Напишите программу, которая выясняет можно ли из длин этих строк построить возрастающую арифметическую прогрессию.\n",
    "\n",
    "Формат входных данных\n",
    "На вход программе подаются три строки, каждая на отдельной строке.\"\"\"\n",
    "\n",
    "a, b, c = len(input()), len(input()), len(input())\n",
    "if (2 * b - c - a) * (2 * c - b - a) * (2 * a - b - c) == 0:\n",
    "    print('YES')\n",
    "else:\n",
    "    print('NO')"
   ]
  },
  {
   "cell_type": "code",
   "execution_count": null,
   "metadata": {},
   "outputs": [],
   "source": [
    "\"\"\"Цвет настроения синий\n",
    "Напишите программу, которая считывает одну строку, после чего выводит «YES», если в введенной строке есть подстрока «синий» и «NO» в противном случае.\n",
    "\n",
    "Формат входных данных\n",
    "На вход программе подается одна строка.\"\"\"\n",
    "\n",
    "string = input()\n",
    "if 'синий' in string:\n",
    "    print('YES')\n",
    "else:\n",
    "    print('NO')"
   ]
  },
  {
   "cell_type": "code",
   "execution_count": null,
   "metadata": {},
   "outputs": [],
   "source": [
    "\"\"\"Отдыхаем ли?\n",
    "Напишите программу, которая считывает одну строку, после чего выводит «YES», если в введённой строке есть подстрока «суббота» или «воскресенье», и «NO» в противном случае.\n",
    "\n",
    "Формат входных данных\n",
    "На вход программе подается одна строка.\"\"\"\n",
    "\n",
    "string = input()\n",
    "if ('суббота' in string) or ('воскресенье' in string):\n",
    "    print('YES')\n",
    "else:\n",
    "    print('NO')"
   ]
  },
  {
   "cell_type": "code",
   "execution_count": null,
   "metadata": {},
   "outputs": [],
   "source": [
    "\"\"\"Корректный email\n",
    "Будем считать email адрес корректным, если в нем есть символ собачки (@) и точки. Напишите программу проверяющую корректность email адреса.\n",
    "\n",
    "Формат входных данных\n",
    "На вход программе подаётся одна строка – email адрес.\n",
    "\n",
    "Примечание. Наличие символов @ и . недостаточно для корректности email адреса, однако их отсутствие гарантировано влечёт за собой неверный email.\"\"\"\n",
    "\n",
    "string = input()\n",
    "if '@' in string and '.' in string:\n",
    "    print('YES')\n",
    "else:\n",
    "    print('NO')"
   ]
  }
 ]
}