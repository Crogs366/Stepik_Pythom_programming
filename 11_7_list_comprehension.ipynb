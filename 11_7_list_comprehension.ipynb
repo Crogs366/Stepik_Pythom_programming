{
 "metadata": {
  "language_info": {
   "codemirror_mode": {
    "name": "ipython",
    "version": 3
   },
   "file_extension": ".py",
   "mimetype": "text/x-python",
   "name": "python",
   "nbconvert_exporter": "python",
   "pygments_lexer": "ipython3",
   "version": 3
  },
  "orig_nbformat": 2
 },
 "nbformat": 4,
 "nbformat_minor": 2,
 "cells": [
  {
   "cell_type": "code",
   "execution_count": null,
   "metadata": {},
   "outputs": [],
   "source": [
    "\"\"\"Дополните приведенный код, используя списочное выражение, так чтобы получить новый список, содержащий строки исходного списка с удаленным первым символом.\"\"\"\n",
    "\n",
    "keywords = ['False', 'True', 'None', 'and', 'with', 'as', 'assert', 'break', 'class', 'continue', 'def', 'del', 'elif', 'else', 'except', 'finally', 'try', 'for', 'from', 'global', 'if', 'import', 'in', 'is', 'lambda', 'nonlocal', 'not', 'or', 'pass', 'raise', 'return', 'while', 'yield']\n",
    "\n",
    "new_keywords = [i[1:] for i in keywords]\n",
    "\n",
    "print(new_keywords)"
   ]
  },
  {
   "cell_type": "code",
   "execution_count": null,
   "metadata": {},
   "outputs": [],
   "source": [
    "\"\"\"Дополните приведенный код, используя списочное выражение, так чтобы получить новый список, содержащий длины строк исходного списка.​\"\"\"\n",
    "\n",
    "keywords = ['False', 'True', 'None', 'and', 'with', 'as', 'assert', 'break', 'class', 'continue', 'def', 'del', 'elif', 'else', 'except', 'finally', 'try', 'for', 'from', 'global', 'if', 'import', 'in', 'is', 'lambda', 'nonlocal', 'not', 'or', 'pass', 'raise', 'return', 'while', 'yield']\n",
    "\n",
    "lengths = [len(i) for i in keywords]\n",
    "\n",
    "print(lengths)"
   ]
  },
  {
   "cell_type": "code",
   "execution_count": null,
   "metadata": {},
   "outputs": [],
   "source": [
    "\"\"\"Дополните приведенный код списочным выражением, чтобы получить новый список, содержащий только слова длиной не менее пяти символов (включительно).\"\"\"\n",
    "\n",
    "keywords = ['False', 'True', 'None', 'and', 'with', 'as', 'assert', 'break', 'class', 'continue', 'def', 'del', 'elif', 'else', 'except', 'finally', 'try', 'for', 'from', 'global', 'if', 'import', 'in', 'is', 'lambda', 'nonlocal', 'not', 'or', 'pass', 'raise', 'return', 'while', 'yield']\n",
    "\n",
    "new_keywords = [i for i in keywords if len(i) >= 5]\n",
    "\n",
    "print(new_keywords)"
   ]
  },
  {
   "cell_type": "code",
   "execution_count": null,
   "metadata": {},
   "outputs": [],
   "source": [
    "\"\"\"Дополните приведенный код, используя списочное выражение, так чтобы получить список всех чисел палиндромов от 100 до 1000.\"\"\"\n",
    "\n",
    "palindromes = [i for i in range(100,1001) if str(i) == str(i)[::-1]]\n",
    "\n",
    "print(palindromes)"
   ]
  },
  {
   "cell_type": "code",
   "execution_count": null,
   "metadata": {},
   "outputs": [],
   "source": [
    "\"\"\"Списочное выражение 1\n",
    "На вход программе подается натуральное число n. Напишите программу, использующую списочное выражение, которая создает список содержащий квадраты чисел от 1 до n, а затем выводит его элементы построчно, то есть каждый на отдельной строке.\n",
    "\n",
    "Формат входных данных\n",
    "На вход программе подается натуральное число.\"\"\"\n",
    "\n",
    "s = [i**2 for i in range(1, int(input())+1)]\n",
    "\n",
    "print(*s, sep = '\\n')"
   ]
  },
  {
   "cell_type": "code",
   "execution_count": null,
   "metadata": {},
   "outputs": [],
   "source": [
    "\"\"\"Списочное выражение 2\n",
    "На вход программе подается строка текста, содержащая целые числа. Напишите программу, использующую списочное выражение, которая выведет кубы указанных чисел также на одной строке.\n",
    "\n",
    "Формат входных данных\n",
    "На вход программе подается строка текста, содержащая целые числа, разделенные символом пробела.\"\"\"\n",
    "\n",
    "s = [int(i) ** 3 for i in input().split()]\n",
    "\n",
    "print(*s)"
   ]
  },
  {
   "cell_type": "code",
   "execution_count": null,
   "metadata": {},
   "outputs": [],
   "source": [
    "\"\"\"В одну строку 1\n",
    "На вход программе подается строка текста, содержащая слова. Напишите программу, которая выводит слова введенной строки в столбик.\n",
    "\n",
    "Формат входных данных\n",
    "На вход программе подается строка текста, содержащая слова, разделенные символом пробела.\"\"\"\n",
    "\n",
    "print (*input().split(),sep='\\n')"
   ]
  },
  {
   "cell_type": "code",
   "execution_count": null,
   "metadata": {},
   "outputs": [],
   "source": [
    "\"\"\"В одну строку 2\n",
    "На вход программе подается строка текста. Напишите программу, использующую списочное выражение, которая выводит все цифровые символы данной строки.\n",
    "\n",
    "Формат входных данных\n",
    "На вход программе подается строка текста.\"\"\"\n",
    "\n",
    "print(*(i for i in input() if i.isdigit()), sep=\"\")"
   ]
  },
  {
   "cell_type": "code",
   "execution_count": null,
   "metadata": {},
   "outputs": [],
   "source": [
    "\"\"\"В одну строку 3\n",
    "На вход программе подается строка текста, содержащая целые числа. Напишите программу, использующую списочное выражение, которая выведет квадраты четных чисел, которые не оканчиваются на цифру 4.\n",
    "\n",
    "Формат входных данных\n",
    "На вход программе подается строка текста, содержащая целые числа, разделенные символом пробела.\"\"\"\n",
    "\n",
    "[print (int(i) ** 2, end = ' ') for i in input().split() if ((int(i)) % 2 == 0) and ((int(i)) % 10 != 2 ) and ((int(i)) % 10 != 8)] "
   ]
  }
 ]
}