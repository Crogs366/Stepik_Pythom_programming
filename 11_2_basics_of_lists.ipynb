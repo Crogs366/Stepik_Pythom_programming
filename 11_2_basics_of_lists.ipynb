{
 "metadata": {
  "language_info": {
   "codemirror_mode": {
    "name": "ipython",
    "version": 3
   },
   "file_extension": ".py",
   "mimetype": "text/x-python",
   "name": "python",
   "nbconvert_exporter": "python",
   "pygments_lexer": "ipython3",
   "version": 3
  },
  "orig_nbformat": 2
 },
 "nbformat": 4,
 "nbformat_minor": 2,
 "cells": [
  {
   "cell_type": "code",
   "execution_count": null,
   "metadata": {},
   "outputs": [],
   "source": [
    "\"\"\"Дополните приведенный код, используя индексатор, так чтобы он вывел 17-ый элемент списка primes.\"\"\"\n",
    "\n",
    "primes = [2, 3, 5, 7, 11, 13, 17, 19, 23, 29, 31, 37, 41, 43, 47, 53, 59, 61, 67, 71]\n",
    "\n",
    "print(primes[16])"
   ]
  },
  {
   "cell_type": "code",
   "execution_count": null,
   "metadata": {},
   "outputs": [],
   "source": [
    "\"\"\"Дополните приведенный код, используя индексатор, так чтобы он вывел последний элемент списка primes.\"\"\"\n",
    "\n",
    "primes = [2, 3, 5, 7, 11, 13, 17, 19, 23, 29, 31, 37, 41, 43, 47, 53, 59, 61, 67, 71]\n",
    "\n",
    "print(primes[-1])"
   ]
  },
  {
   "cell_type": "code",
   "execution_count": null,
   "metadata": {},
   "outputs": [],
   "source": [
    "\"\"\"Дополните приведенный код, используя срезы, так чтобы он вывел первые 6 элементов списка primes.\n",
    "\n",
    "Примечание. Результатом вывода должна быть строка [2, 3, 5, 7, 11, 13].\"\"\"\n",
    "\n",
    "primes = [2, 3, 5, 7, 11, 13, 17, 19, 23, 29, 31, 37, 41, 43, 47, 53, 59, 61, 67, 71]\n",
    "\n",
    "print(primes[:6])"
   ]
  },
  {
   "cell_type": "code",
   "execution_count": null,
   "metadata": {},
   "outputs": [],
   "source": [
    "\"\"\"Дополните приведенный код, так чтобы он вывел сумму минимального и максимального элементов списка numbers.\"\"\"\n",
    "\n",
    "numbers = [12.5, 3.1415, 2.718, 9.8, 1.414, 1.1618, 1.324]\n",
    "\n",
    "print(min(numbers) + max(numbers))"
   ]
  },
  {
   "cell_type": "code",
   "execution_count": null,
   "metadata": {},
   "outputs": [],
   "source": [
    "\"\"\"Дополните приведенный код, так чтобы он вывел среднее арифметическое элементов списка evens.\"\"\"\n",
    "\n",
    "evens = [2, 4, 6, 8, 10, 12, 14, 16, 18, 20]\n",
    "average = sum(evens) / len(evens)\n",
    "\n",
    "print(average)"
   ]
  },
  {
   "cell_type": "code",
   "execution_count": null,
   "metadata": {},
   "outputs": [],
   "source": [
    "\"\"\"Дополните приведенный код, так чтобы элемент списка имеющий значение Green заменился на значений Зеленый, а элемент Violet на Фиолетовый. Далее необходимо вывести полученный список.\"\"\"\n",
    "\n",
    "rainbow = ['Red', 'Orange', 'Yellow', 'Green', 'Blue', 'Indigo', 'Violet']\n",
    "rainbow[3] = 'Зеленый'\n",
    "rainbow[-1] = 'Фиолетовый'\n",
    "print(rainbow)"
   ]
  },
  {
   "cell_type": "code",
   "execution_count": null,
   "metadata": {},
   "outputs": [],
   "source": [
    "\"\"\"Дополните приведенный код, так чтобы он вывел элементы списка languages в обратном порядке.\"\"\"\n",
    "\n",
    "languages = ['Chinese', 'Spanish', 'English', 'Hindi', 'Arabic', 'Bengali', 'Portuguese', 'Russian', 'Japanese', 'Lahnda']\n",
    "\n",
    "print(languages[-1::-1])"
   ]
  },
  {
   "cell_type": "code",
   "execution_count": null,
   "metadata": {},
   "outputs": [],
   "source": [
    "\"\"\"Дополните приведенный код, используя операторы конкатенации (+) и умножения списка на число (*), так чтобы он вывел список:\n",
    "\n",
    " [1, 2, 3, 1, 2, 3, 6, 6, 6, 6, 6, 6, 6, 6, 6, 7, 8, 9, 10, 11, 12, 13].\"\"\"\n",
    "\n",
    "numbers1 = [1, 2, 3]\n",
    "numbers2 = [6]\n",
    "numbers3 = [7, 8, 9, 10, 11, 12, 13]\n",
    "\n",
    "print(numbers1 * 2 + numbers2 * 9 + numbers3)"
   ]
  }
 ]
}