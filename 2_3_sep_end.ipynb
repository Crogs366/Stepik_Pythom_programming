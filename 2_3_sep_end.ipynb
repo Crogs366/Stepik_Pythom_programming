{
 "cells": [
  {
   "cell_type": "code",
   "execution_count": null,
   "metadata": {},
   "outputs": [],
   "source": [
    "Напишите программу, которая выводит на экран текст «I***like***Python» (без кавычек).\n",
    "\n",
    "Примечание. Используйте необязательный параметр sep."
   ]
  },
  {
   "cell_type": "code",
   "execution_count": null,
   "metadata": {},
   "outputs": [],
   "source": [
    "print('I', 'like', 'Python', sep='***')"
   ]
  },
  {
   "cell_type": "code",
   "execution_count": null,
   "metadata": {},
   "outputs": [],
   "source": [
    "Напишите программу, которая считывает строку-разделитель и три строки, а затем выводит указанные строки через разделитель.\n",
    "\n",
    "Формат входных данных\n",
    "На вход программе подаётся строка-разделитель и три строки, каждая на отдельной строке.\n",
    "\n",
    "Формат выходных данных\n",
    "Программа должна вывести введённые три строки через разделитель."
   ]
  },
  {
   "cell_type": "code",
   "execution_count": null,
   "metadata": {},
   "outputs": [],
   "source": [
    "a = input()\n",
    "line1 = input()\n",
    "line2 = input()\n",
    "line3 = input()\n",
    "print(line1, line2, line3, sep = a)"
   ]
  },
  {
   "cell_type": "code",
   "execution_count": null,
   "metadata": {},
   "outputs": [],
   "source": [
    "Напишите программу, которая приветствует пользователя, выводя слово «Привет» (без кавычек), после которого должна стоять запятая и пробел, а затем введенное имя и восклицательный знак.\n",
    "\n",
    "Формат входных данных\n",
    "На вход программе подаётся одна строка — имя пользователя.\n",
    "\n",
    "Формат выходных данных\n",
    "Программа должна вывести текст в соотвествии с условием задачи.\n",
    "\n",
    "Примечание 1. Перед восклицательным знаком не должно быть пробелов.\n",
    "\n",
    "Примечание 2. Используйте необязательный параметр end."
   ]
  },
  {
   "cell_type": "code",
   "execution_count": null,
   "metadata": {},
   "outputs": [],
   "source": [
    "name = input()\n",
    "print('Привет,' , name, end='!')"
   ]
  }
 ],
 "metadata": {
  "language_info": {
   "codemirror_mode": {
    "name": "ipython",
    "version": 3
   },
   "file_extension": ".py",
   "mimetype": "text/x-python",
   "name": "python",
   "nbconvert_exporter": "python",
   "pygments_lexer": "ipython3",
   "version": 3
  },
  "orig_nbformat": 2
 },
 "nbformat": 4,
 "nbformat_minor": 2
}