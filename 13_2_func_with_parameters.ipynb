{
 "metadata": {
  "language_info": {
   "codemirror_mode": {
    "name": "ipython",
    "version": 3
   },
   "file_extension": ".py",
   "mimetype": "text/x-python",
   "name": "python",
   "nbconvert_exporter": "python",
   "pygments_lexer": "ipython3",
   "version": 3
  },
  "orig_nbformat": 2
 },
 "nbformat": 4,
 "nbformat_minor": 2,
 "cells": [
  {
   "cell_type": "code",
   "execution_count": null,
   "metadata": {},
   "outputs": [],
   "source": [
    "\"\"\"Звездный треугольник\n",
    "Напишите функцию draw_triangle(fill, base), которая принимает два параметра:\n",
    "\n",
    "fill – символ заполнитель;\n",
    "base – величина основания равнобедренного треугольника;\n",
    "а затем выводит его.\"\"\"\n",
    "\n",
    "# объявление функции\n",
    "def draw_triangle(fill, base):\n",
    "    for i in range(1, (base+1)//2 +1):\n",
    "        print(fill * i)\n",
    "    for j in range(base//2, 0, -1):\n",
    "        print(fill * j)\n",
    "\n",
    "# считываем данные\n",
    "fill = input()\n",
    "base = int(input())\n",
    "\n",
    "# вызываем функцию\n",
    "draw_triangle(fill, base)"
   ]
  },
  {
   "cell_type": "code",
   "execution_count": null,
   "metadata": {},
   "outputs": [],
   "source": [
    "\"\"\"ФИО\n",
    "Напишите функцию print_fio(name, surname, patronymic), которая принимает три параметра:\n",
    "\n",
    "name – имя человека;\n",
    "surname – фамилия человека;\n",
    "patronymic – отчество человека;\n",
    "а затем выводит на печать ФИО человека.\"\"\"\n",
    "\n",
    "# объявление функции\n",
    "def print_fio(name, surname, patronymic):\n",
    "    print((surname[0] + name[0] + patronymic[0]).upper())\n",
    "\n",
    "# считываем данные\n",
    "name, surname, patronymic = input(), input(), input(),\n",
    "\n",
    "# вызываем функцию\n",
    "print_fio(name, surname, patronymic)"
   ]
  },
  {
   "cell_type": "code",
   "execution_count": null,
   "metadata": {},
   "outputs": [],
   "source": [
    "\"\"\"Сумма цифр\n",
    "Напишите функцию print_digit_sum(), которая принимает одно целое число num и выводит на печать сумму его цифр.\"\"\"\n",
    "\n",
    "# объявление функции\n",
    "def print_digit_sum(num):\n",
    "    sum = 0\n",
    "    while num > 0:\n",
    "        sum += num % 10\n",
    "        num = num // 10\n",
    "    print(sum)\n",
    "\n",
    "# считываем данные\n",
    "n = int(input())\n",
    "\n",
    "# вызываем функцию\n",
    "print_digit_sum(n)"
   ]
  }
 ]
}