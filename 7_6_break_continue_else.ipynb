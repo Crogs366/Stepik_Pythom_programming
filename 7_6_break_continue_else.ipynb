{
 "metadata": {
  "language_info": {
   "codemirror_mode": {
    "name": "ipython",
    "version": 3
   },
   "file_extension": ".py",
   "mimetype": "text/x-python",
   "name": "python",
   "nbconvert_exporter": "python",
   "pygments_lexer": "ipython3",
   "version": 3
  },
  "orig_nbformat": 2
 },
 "nbformat": 4,
 "nbformat_minor": 2,
 "cells": [
  {
   "cell_type": "code",
   "execution_count": null,
   "metadata": {},
   "outputs": [],
   "source": [
    "\"\"\"Наименьший делитель\n",
    "На вход программе подается число n > 1. Напишите программу, которая выводит его наименьший отличный от 1 делитель.\n",
    "\n",
    "Формат входных данных\n",
    "На вход программе подается одно натуральное число n.\"\"\"\n",
    "\n",
    "n = int(input())\n",
    "i = 1\n",
    "while i != 0:\n",
    "    i += 1\n",
    "    if n % i == 0:\n",
    "        break\n",
    "print(i)"
   ]
  },
  {
   "cell_type": "code",
   "execution_count": null,
   "metadata": {},
   "outputs": [],
   "source": [
    "\"\"\"Следуй правилам\n",
    "На вход программе подается натуральное число n. Напишите программу, которая выводит числа от 1 до n включительно за исключением:\n",
    "\n",
    "чисел от 5 до 9 включительно;\n",
    "чисел от 17 до 37 включительно;\n",
    "чисел от 78 до 87 включительно.\n",
    "Формат входных данных\n",
    "На вход программе подается одно натуральное число n.\"\"\"\n",
    "\n",
    "n = int(input())\n",
    "for i in range(1,n + 1):\n",
    "    if 5 <= i <= 9 or 17 <= i <= 37 or 78 <= i <= 87:\n",
    "        continue\n",
    "    print(i)"
   ]
  }
 ]
}