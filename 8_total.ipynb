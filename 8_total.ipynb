{
 "metadata": {
  "language_info": {
   "codemirror_mode": {
    "name": "ipython",
    "version": 3
   },
   "file_extension": ".py",
   "mimetype": "text/x-python",
   "name": "python",
   "nbconvert_exporter": "python",
   "pygments_lexer": "ipython3",
   "version": 3
  },
  "orig_nbformat": 2
 },
 "nbformat": 4,
 "nbformat_minor": 2,
 "cells": [
  {
   "cell_type": "code",
   "execution_count": null,
   "metadata": {},
   "outputs": [],
   "source": [
    "\"\"\"Звездная рамка\n",
    "На вход программе подается натуральное число n. Напишите программу, которая печатает звездную рамку размерами n × 19.\n",
    "\n",
    "Формат входных данных\n",
    "На вход программе подаётся натуральное число n ∈ [3;19] — высота звездной рамки.\"\"\"\n",
    "\n",
    "n = int(input())\n",
    "print('*' * 19)\n",
    "for i in range(0, n - 2):\n",
    "    print('*'+' ' * 17 + '*')\n",
    "print('*' * 19)"
   ]
  },
  {
   "cell_type": "code",
   "execution_count": null,
   "metadata": {},
   "outputs": [],
   "source": [
    "\"\"\"Третья цифра\n",
    "Дано натуральное число n (n > 99). Напишите программу, которая определяет его третью (с начала) цифру.\n",
    "\n",
    "Формат входных данных \n",
    "На вход программе подается одно натуральное число, состоящее как минимум из трех цифр.\"\"\"\n",
    "\n",
    "n = int(input())\n",
    "while n > 0:\n",
    "    if n >= 1000:\n",
    "        n //= 10\n",
    "    else:\n",
    "        n %= 10\n",
    "        print(n)\n",
    "        break"
   ]
  },
  {
   "cell_type": "code",
   "execution_count": null,
   "metadata": {},
   "outputs": [],
   "source": [
    "\"\"\"Все вместе 2\n",
    "Дано натуральное число. Напишите программу, которая вычисляет:\n",
    "\n",
    "количество цифр 3 в нем;\n",
    "сколько раз в нем встречается последняя цифра;\n",
    "количество четных цифр;\n",
    "сумму его цифр, больших пяти;\n",
    "произведение цифр, больших семи (если цифр больших семи нет, то вывести 1, если такая цифра одна, то вывести ее);\n",
    "сколько раз в нем встречается цифры 0 и 5 (всего суммарно).\n",
    "Формат входных данных \n",
    "На вход программе подается одно натуральное число.\"\"\"\n",
    "\n",
    "n = int(input())\n",
    "count3 = 0\n",
    "countlastdigit = 0 \n",
    "counteven = 0\n",
    "sum5 = 0 \n",
    "timenumeral7 = 1 \n",
    "count50 = 0\n",
    "lastdigit = n % 10\n",
    "while n > 0:\n",
    "    if n % 10 == 3:\n",
    "        count3 += 1\n",
    "    if n % 10 == lastdigit:\n",
    "        countlastdigit += 1\n",
    "    if n % 2 == 0:\n",
    "        counteven += 1\n",
    "    if n % 10 > 5:\n",
    "        sum5 += n % 10\n",
    "    if n % 10 > 7:\n",
    "        timenumeral7 *= n % 10\n",
    "    if n % 10 == 0 or n % 10 == 5:\n",
    "        count50 += 1\n",
    "    n //= 10\n",
    "print(count3)\n",
    "print(countlastdigit)\n",
    "print(counteven)\n",
    "print(sum5)\n",
    "print(timenumeral7)\n",
    "print(count50)"
   ]
  }
 ]
}