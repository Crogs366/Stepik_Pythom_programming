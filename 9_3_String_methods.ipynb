{
 "metadata": {
  "language_info": {
   "codemirror_mode": {
    "name": "ipython",
    "version": 3
   },
   "file_extension": ".py",
   "mimetype": "text/x-python",
   "name": "python",
   "nbconvert_exporter": "python",
   "pygments_lexer": "ipython3",
   "version": 3
  },
  "orig_nbformat": 2
 },
 "nbformat": 4,
 "nbformat_minor": 2,
 "cells": [
  {
   "cell_type": "code",
   "execution_count": null,
   "metadata": {},
   "outputs": [],
   "source": [
    "\"\"\"Заглавные буквы\n",
    "На вход программе подается строка состоящая из имени и фамилии человека, разделенных одним пробелом. Напишите программу, которая проверяет, что имя и фамилия начинаются с заглавной буквы.\n",
    "\n",
    "Формат входных данных \n",
    "На вход программе подается строка.\"\"\"\n",
    "\n",
    "s = input()\n",
    "if s == s.title():\n",
    "    print('YES')\n",
    "else:\n",
    "    print('NO')"
   ]
  },
  {
   "cell_type": "code",
   "execution_count": null,
   "metadata": {},
   "outputs": [],
   "source": [
    "\"\"\"sWAP cASE\n",
    "На вход программе подается строка. Напишите программу, которая меняет регистр символов, другими словами замените все строчные символы заглавными и наоборот.\n",
    "\n",
    "Формат входных данных \n",
    "На вход программе подается строка.\"\"\"\n",
    "\n",
    "s = input()\n",
    "print(s.swapcase())"
   ]
  },
  {
   "cell_type": "code",
   "execution_count": null,
   "metadata": {},
   "outputs": [],
   "source": [
    "\"\"\"Хороший оттенок\n",
    "На вход программе подается строка текста. Напишите программу, которая определяет является ли оттенок текста хорошим или нет. Текст имеет хороший оттенок, если содержит подстроку «хорош» во всевозможных регистрах.\n",
    "\n",
    "Формат входных данных \n",
    "На вход программе подается строка текста.\"\"\"\n",
    "\n",
    "s = input().lower()\n",
    "if 'хорош' in s:\n",
    "    print('YES')\n",
    "else:\n",
    "    print('NO')"
   ]
  },
  {
   "cell_type": "code",
   "execution_count": null,
   "metadata": {},
   "outputs": [],
   "source": [
    "\"\"\"Нижний регистр\n",
    "На вход программе подается строка. Напишите программу, которая подсчитывает количество буквенных символов в нижнем регистре.\n",
    "\n",
    "Формат входных данных \n",
    "На вход программе подается строка.\"\"\"\n",
    "\n",
    "s = input()\n",
    "count = 0\n",
    "for i in s:\n",
    "    if i in 'abcdefghijklmnopqrstuvwxyz':\n",
    "        count += 1\n",
    "print(count)"
   ]
  }
 ]
}