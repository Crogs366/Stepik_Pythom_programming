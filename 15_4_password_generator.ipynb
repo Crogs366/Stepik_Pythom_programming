{
 "cells": [
  {
   "cell_type": "code",
   "execution_count": 1,
   "metadata": {
    "tags": []
   },
   "outputs": [
    {
     "output_type": "error",
     "ename": "ValueError",
     "evalue": "invalid literal for int() with base 10: 'рекнр'",
     "traceback": [
      "\u001b[1;31m---------------------------------------------------------------------------\u001b[0m",
      "\u001b[1;31mValueError\u001b[0m                                Traceback (most recent call last)",
      "\u001b[1;32m<ipython-input-1-fac0875cd664>\u001b[0m in \u001b[0;36m<module>\u001b[1;34m\u001b[0m\n\u001b[0;32m     47\u001b[0m     \u001b[1;32mreturn\u001b[0m \u001b[0mpassword\u001b[0m\u001b[1;33m\u001b[0m\u001b[1;33m\u001b[0m\u001b[0m\n\u001b[0;32m     48\u001b[0m \u001b[1;33m\u001b[0m\u001b[0m\n\u001b[1;32m---> 49\u001b[1;33m \u001b[1;32mfor\u001b[0m \u001b[0mi\u001b[0m \u001b[1;32min\u001b[0m \u001b[0mrange\u001b[0m\u001b[1;33m(\u001b[0m\u001b[0mint\u001b[0m\u001b[1;33m(\u001b[0m\u001b[0mnum\u001b[0m\u001b[1;33m)\u001b[0m\u001b[1;33m)\u001b[0m\u001b[1;33m:\u001b[0m\u001b[1;33m\u001b[0m\u001b[1;33m\u001b[0m\u001b[0m\n\u001b[0m\u001b[0;32m     50\u001b[0m     \u001b[0mpassword\u001b[0m \u001b[1;33m=\u001b[0m \u001b[0mgenerate_password\u001b[0m\u001b[1;33m(\u001b[0m\u001b[0mlength\u001b[0m\u001b[1;33m,\u001b[0m \u001b[0mchars\u001b[0m\u001b[1;33m)\u001b[0m\u001b[1;33m\u001b[0m\u001b[1;33m\u001b[0m\u001b[0m\n\u001b[0;32m     51\u001b[0m     \u001b[0mprint\u001b[0m\u001b[1;33m(\u001b[0m\u001b[0mpassword\u001b[0m\u001b[1;33m)\u001b[0m\u001b[1;33m\u001b[0m\u001b[1;33m\u001b[0m\u001b[0m\n",
      "\u001b[1;31mValueError\u001b[0m: invalid literal for int() with base 10: 'рекнр'"
     ]
    }
   ],
   "source": [
    "import random\n",
    "\n",
    "digits = '0123456789'\n",
    "lowercase_letters = 'abcdefghijklmnopqrstuvwxyz'\n",
    "uppercase_letters = 'ABCDEFGHIJKLMNOPQRSTUVWXYZ'\n",
    "punctuation = '!#$%&*+-=?@^_.'\n",
    "\n",
    "chars = ''\n",
    "\n",
    "num = input('Сколько паролей нужно?')\n",
    "\n",
    "length = input('Какая длина пароля?')\n",
    "\n",
    "digit = input('Включать ли цифры 0123456789?; Введите \"да\" или \"нет\"')\n",
    "\n",
    "upper = input('Включать ли прописные буквы ABCDEFGHIJKLMNOPQRSTUVWXYZ?; Введите \"да\" или \"нет\"')\n",
    "\n",
    "lower = input('Включать ли строчные буквы abcdefghijklmnopqrstuvwxyz?; Введите \"да\" или \"нет\"')\n",
    "\n",
    "symbols = input('Включать ли символы !#$%&*+-=?@^_?; Введите \"да\" или \"нет\"')\n",
    "\n",
    "similar_symbols = input('Исключать ли неоднозначные символы il1Lo0O?; Введите \"да\" или \"нет\"')\n",
    "\n",
    "if digit == 'да':\n",
    "    chars += digits\n",
    "if upper == 'да':\n",
    "    chars += uppercase_letters\n",
    "if lower == 'да':\n",
    "    chars += lowercase_letters\n",
    "if symbols == 'да':\n",
    "    chars += punctuation\n",
    "if similar_symbols == 'да':\n",
    "    chars = chars.replace('i', '')\n",
    "    chars = chars.replace('l', '')\n",
    "    chars = chars.replace('1', '')\n",
    "    chars = chars.replace('L', '')\n",
    "    chars = chars.replace('o', '')\n",
    "    chars = chars.replace('i', '')\n",
    "    chars = chars.replace('0', '')\n",
    "    chars = chars.replace('O', '')\n",
    "    \n",
    "def generate_password(length_generate_password, sym):\n",
    "    sym = list(sym)\n",
    "    password = ''\n",
    "    for i in range(int(length_generate_password)):\n",
    "        password += random.choice(chars)\n",
    "    return password\n",
    "\n",
    "for i in range(int(num)):\n",
    "    password = generate_password(length, chars)\n",
    "    print(password)"
   ]
  },
  {
   "cell_type": "code",
   "execution_count": null,
   "metadata": {},
   "outputs": [],
   "source": []
  }
 ],
 "metadata": {
  "language_info": {
   "codemirror_mode": {
    "name": "ipython",
    "version": 3
   },
   "file_extension": ".py",
   "mimetype": "text/x-python",
   "name": "python",
   "nbconvert_exporter": "python",
   "pygments_lexer": "ipython3",
   "version": "3.8.2-final"
  },
  "orig_nbformat": 2,
  "kernelspec": {
   "name": "python38232bit3db169014aea48db84573a3599a11904",
   "display_name": "Python 3.8.2 32-bit"
  }
 },
 "nbformat": 4,
 "nbformat_minor": 2
}