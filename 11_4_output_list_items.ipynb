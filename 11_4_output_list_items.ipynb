{
 "metadata": {
  "language_info": {
   "codemirror_mode": {
    "name": "ipython",
    "version": 3
   },
   "file_extension": ".py",
   "mimetype": "text/x-python",
   "name": "python",
   "nbconvert_exporter": "python",
   "pygments_lexer": "ipython3",
   "version": 3
  },
  "orig_nbformat": 2
 },
 "nbformat": 4,
 "nbformat_minor": 2,
 "cells": [
  {
   "cell_type": "code",
   "execution_count": null,
   "metadata": {},
   "outputs": [],
   "source": [
    "\"\"\"Дополните приведенный код, так чтобы он вывел сумму квадратов элементов списка numbers.\"\"\"\n",
    "\n",
    "numbers = [1, 78, 23, -65, 99, 9089, 34, -32, 0, -67, 1, 11, 111]\n",
    "sum = 0\n",
    "for i in numbers:\n",
    "    sum += i * i\n",
    "print(sum)"
   ]
  },
  {
   "cell_type": "code",
   "execution_count": null,
   "metadata": {},
   "outputs": [],
   "source": [
    "\"\"\"Значение функции\n",
    "На вход программе подается натуральное число n, а затем n целых чисел. Напишите программу, которая для каждого из введенного числа xx выводит значение функции f(x) = x^2 + 2x + 1 каждое на отдельной строке.\n",
    "\n",
    "Формат входных данных\n",
    "На вход программе подаются натуральное число n, а затем n целых чисел, каждое на отдельной строке.\"\"\"\n",
    "\n",
    "length = int(input())\n",
    "a = []\n",
    "b = []\n",
    "for i in range(length):\n",
    "    a.append(int(input()))\n",
    "print(*a, sep = '\\n')\n",
    "print()\n",
    "for i in a:\n",
    "    b.append(i * i + 2 * i + 1)\n",
    "print(*b, sep = '\\n')"
   ]
  },
  {
   "cell_type": "code",
   "execution_count": null,
   "metadata": {},
   "outputs": [],
   "source": [
    "\"\"\"Remove outliers\n",
    "При анализе данных, собранных в рамках научного эксперимента, бывает полезно удалить самое большое и самое маленькое значение.\n",
    "\n",
    "На вход программе подается натуральное число n, а затем n различных натуральных чисел. Напишите программу, которая удаляет наименьшее и наибольшее значение из указанных чисел, а затем выводит оставшиеся числа каждое на отдельной строке, не меняя их порядок.\n",
    "\n",
    "Формат входных данных\n",
    "На вход программе подаются натуральное число n, а затем n различных натуральных чисел, каждое на отдельной строке.\"\"\"\n",
    "\n",
    "length = int(input())\n",
    "a = []\n",
    "b = []\n",
    "c = []\n",
    "for i in range(length):\n",
    "    a.append(int(input()))\n",
    "for i in a:\n",
    "    if i > min(a):\n",
    "        b.append(i)\n",
    "for i in b:\n",
    "    if i < max(b):\n",
    "        c.append(i)\n",
    "print(*c, sep = '\\n')"
   ]
  },
  {
   "cell_type": "code",
   "execution_count": null,
   "metadata": {},
   "outputs": [],
   "source": [
    "\"\"\"Без дубликатов\n",
    "На вход программе подается натуральное число n, а затем n строк. Напишите программу, которая выводит только уникальные строки, в том же порядке, в котором они были введены.\n",
    "\n",
    "Формат входных данных\n",
    "На вход программе подаются натуральное число n, а затем n строк, каждая на отдельной строке.\"\"\"\n",
    "\n",
    "length = int(input())\n",
    "a = []\n",
    "for i in range(length):\n",
    "    c = input()\n",
    "    if c not in a:\n",
    "        a.append(c)\n",
    "print(*a, sep = '\\n')"
   ]
  },
  {
   "cell_type": "code",
   "execution_count": null,
   "metadata": {},
   "outputs": [],
   "source": [
    "\"\"\"Google search - 1\n",
    "На вход программе подается натуральное число n, затем n строк, затем еще одна строка — поисковый запрос. Напишите программу, которая выводит все введенные строки, в которых встречается поисковый запрос.\n",
    "\n",
    "Формат входных данных\n",
    "На вход программе подаются натуральное число n — количество строк, затем сами строки в указанном количестве, затем один поисковый запрос.\"\"\"\n",
    "\n",
    "length = int(input())\n",
    "a = []\n",
    "for i in range(length):\n",
    "    a.append(input())\n",
    "word = input()\n",
    "for j in a:\n",
    "    if word.lower() in j.lower():\n",
    "        print(j)"
   ]
  },
  {
   "cell_type": "code",
   "execution_count": null,
   "metadata": {},
   "outputs": [],
   "source": [
    "\"\"\"Google search - 2 🌶️🌶️\n",
    "На вход программе подается натуральное число n, затем n строк, затем число k — количество поисковых запросов, затем k строк — поисковые запросы. Напишите программу, которая выводит все введенные строки, в которых встречаются все поисковые запросы.\n",
    "\n",
    "Формат входных данных\n",
    "На вход программе подаются натуральное число n — количество строк, затем сами строки в указанном количестве, затем число k, затем сами поисковые запросы.\"\"\"\n",
    "\n",
    "length1 = int(input())\n",
    "a, b, c = [], [], []\n",
    "for i in range(length1):\n",
    "    a.append(input())\n",
    "\n",
    "length2 = int(input())\n",
    "for i in range(length2):\n",
    "    b.append(input())\n",
    "\n",
    "countb = len(b)\n",
    "count = 0\n",
    "\n",
    "for j in a:\n",
    "    for i in range(length2):\n",
    "        if b[i].lower() in j.lower():\n",
    "            count +=1\n",
    "        if count == countb:\n",
    "            print(j)\n",
    "    count = 0"
   ]
  },
  {
   "cell_type": "code",
   "execution_count": null,
   "metadata": {},
   "outputs": [],
   "source": [
    "\"\"\"Negatives, Zeros and Positives\n",
    "На вход программе подается натуральное число n, а затем n целых чисел. Напишите программу, которая сначала выводит все отрицательные числа, затем нули, а затем все положительные числа, каждое на отдельной строке. Числа должны быть выведены в том же порядке, в котором они были введены.\n",
    "\n",
    "Формат входных данных\n",
    "На вход программе подаются натуральное число n, а затем n целых чисел, каждое на отдельной строке.\"\"\"\n",
    "\n",
    "length = int(input())\n",
    "negative, null, positive = [], [], []\n",
    "for i in range(length):\n",
    "    number = int(input())\n",
    "    if number < 0:\n",
    "        negative.append(number)\n",
    "    elif number == 0:\n",
    "        null.append(number)\n",
    "    else:\n",
    "        positive.append(number)\n",
    "print(*negative, sep = '\\n')\n",
    "print(*null, sep = '\\n')\n",
    "print(*positive, sep = '\\n')"
   ]
  }
 ]
}