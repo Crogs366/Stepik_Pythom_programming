{
 "cells": [
  {
   "cell_type": "code",
   "execution_count": null,
   "metadata": {},
   "outputs": [],
   "source": [
    "При регистрации на сайтах требуется вводить пароль дважды. Это сделано для безопасности, поскольку такой подход уменьшает возможность неверного ввода пароля.\n",
    "\n",
    "Напишите программу, которая сравнивает пароль и его подтверждение. Если они совпадают, то программа выводит: «Пароль принят», иначе: «Пароль не принят».\n",
    "\n",
    "Формат входных данных\n",
    "На вход программе подаются две строки.\n",
    "\n",
    "Формат выходных данных\n",
    "Программа должна вывести одну строку в соответствии с условием задачи."
   ]
  },
  {
   "cell_type": "code",
   "execution_count": null,
   "metadata": {},
   "outputs": [],
   "source": [
    "a, b = input(), input()\n",
    "if a == b:\n",
    "    print('Пароль принят')\n",
    "else:\n",
    "    print('Пароль не принят')"
   ]
  },
  {
   "cell_type": "code",
   "execution_count": null,
   "metadata": {},
   "outputs": [],
   "source": [
    "Напишите программу, которая определяет, является число четным или нечетным."
   ]
  },
  {
   "cell_type": "code",
   "execution_count": null,
   "metadata": {},
   "outputs": [],
   "source": [
    "print('Четное' if int(input()) % 2 == 0 else 'Нечетное')"
   ]
  },
  {
   "cell_type": "code",
   "execution_count": null,
   "metadata": {},
   "outputs": [],
   "source": [
    "Напишите программу, которая проверяет, что для заданного четырехзначного числа выполняется следующее соотношение: сумма первой и последней цифр равна разности второй и третьей цифр.\n",
    "\n",
    "Формат входных данных\n",
    "На вход программе подаётся одно целое положительное четырёхзначное число.\n",
    "\n",
    "Формат выходных данных\n",
    "Программа должна вывести «ДА», если соотношение выполняется, и «НЕТ» — если не выполняется."
   ]
  },
  {
   "cell_type": "code",
   "execution_count": null,
   "metadata": {},
   "outputs": [],
   "source": [
    "a = int(input())\n",
    "a1 = a // 1000\n",
    "a2 = a % 1000 // 100\n",
    "a3 = a % 100 // 10\n",
    "a4 = a % 10\n",
    "if a1 + a4 == a2 - a3:\n",
    "    print('ДА')\n",
    "else:\n",
    "    print('НЕТ')"
   ]
  },
  {
   "cell_type": "code",
   "execution_count": null,
   "metadata": {},
   "outputs": [],
   "source": [
    "Напишите программу, которая определяет, разрешен пользователю доступ к интернет-ресурсу или нет.\n",
    "\n",
    "Формат входных данных\n",
    "На вход программе подаётся целое число — возраст пользователя.\n",
    "\n",
    "Формат выходных данных\n",
    "Программа должна вывести текст «Доступ разрешен» если возраст не менее 18, и «Доступ запрещен» в противном случае."
   ]
  },
  {
   "cell_type": "code",
   "execution_count": null,
   "metadata": {},
   "outputs": [],
   "source": [
    "a = int(input())\n",
    "if a >= 18:\n",
    "    print('Доступ разрешен')\n",
    "else:\n",
    "    print('Доступ запрещен')"
   ]
  },
  {
   "cell_type": "code",
   "execution_count": null,
   "metadata": {},
   "outputs": [],
   "source": [
    "Напишите программу, которая определяет, являются ли три заданных числа (в указанном порядке) последовательными членами арифметической прогрессии.\n",
    "\n",
    "Формат входных данных\n",
    "На вход программе подаются три числа, каждое на отдельной строке.\n",
    "\n",
    "Формат выходных данных\n",
    "Программа должна вывести «YES» или «NO» (без кавычек) в соответствии с условием задачи. "
   ]
  },
  {
   "cell_type": "code",
   "execution_count": null,
   "metadata": {},
   "outputs": [],
   "source": [
    "a = int(input())\n",
    "b = int(input())\n",
    "c = int(input())\n",
    "if b-a == c - b:\n",
    "    print('YES')\n",
    "else:\n",
    "    print('NO')"
   ]
  },
  {
   "cell_type": "code",
   "execution_count": null,
   "metadata": {},
   "outputs": [],
   "source": [
    "Напишите программу, которая определяет наименьшее из двух чисел."
   ]
  },
  {
   "cell_type": "code",
   "execution_count": null,
   "metadata": {},
   "outputs": [],
   "source": [
    "a = int(input())\n",
    "b = int(input())\n",
    "print( a if a < b else b)"
   ]
  },
  {
   "cell_type": "code",
   "execution_count": null,
   "metadata": {},
   "outputs": [],
   "source": [
    "Напишите программу, которая определяет наименьшее из четырёх чисел."
   ]
  },
  {
   "cell_type": "code",
   "execution_count": null,
   "metadata": {},
   "outputs": [],
   "source": [
    "a, b, c, d = int(input()), int(input()), int(input()), int(input())\n",
    "e = 0\n",
    "if a < b:\n",
    "    e = a\n",
    "else: \n",
    "    e = b\n",
    "if e < c:\n",
    "    e = e\n",
    "else:\n",
    "    e = c\n",
    "if e < d:\n",
    "    e = e\n",
    "else:\n",
    "    e = d\n",
    "print(e)"
   ]
  },
  {
   "cell_type": "code",
   "execution_count": null,
   "metadata": {},
   "outputs": [],
   "source": [
    "Напишите программу, которая по введённому возрасту пользователя сообщает, к какой возрастной группе он относится:\n",
    "\n",
    "до 13 включительно – детство;\n",
    "от 14 до 24 – молодость;\n",
    "от 25 до 59 – зрелость;\n",
    "от 60 – старость."
   ]
  },
  {
   "cell_type": "code",
   "execution_count": null,
   "metadata": {},
   "outputs": [],
   "source": [
    "a = int(input())\n",
    "if a <= 13:\n",
    "    print('детство')\n",
    "if 14 <= a <= 24:\n",
    "    print('молодость')\n",
    "if 25 <= a <= 59:\n",
    "    print('зрелость')\n",
    "if a >= 60:\n",
    "    print('старость')"
   ]
  },
  {
   "cell_type": "code",
   "execution_count": null,
   "metadata": {},
   "outputs": [],
   "source": [
    "Напишите программу, которая считывает три числа и подсчитывает сумму только положительных чисел."
   ]
  },
  {
   "cell_type": "code",
   "execution_count": null,
   "metadata": {},
   "outputs": [],
   "source": [
    "a, b, c = int(input()), int(input()), int(input())\n",
    "sum = 0\n",
    "if a > 0:\n",
    "    sum +=a\n",
    "if b > 0:\n",
    "    sum +=b\n",
    "if c > 0:\n",
    "    sum += c\n",
    "print(sum)"
   ]
  }
 ],
 "metadata": {
  "language_info": {
   "codemirror_mode": {
    "name": "ipython",
    "version": 3
   },
   "file_extension": ".py",
   "mimetype": "text/x-python",
   "name": "python",
   "nbconvert_exporter": "python",
   "pygments_lexer": "ipython3",
   "version": "3.8.2-final"
  },
  "orig_nbformat": 2,
  "kernelspec": {
   "name": "python38232bit3db169014aea48db84573a3599a11904",
   "display_name": "Python 3.8.2 32-bit"
  }
 },
 "nbformat": 4,
 "nbformat_minor": 2
}