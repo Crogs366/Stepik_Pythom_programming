{
 "metadata": {
  "language_info": {
   "codemirror_mode": {
    "name": "ipython",
    "version": 3
   },
   "file_extension": ".py",
   "mimetype": "text/x-python",
   "name": "python",
   "nbconvert_exporter": "python",
   "pygments_lexer": "ipython3",
   "version": 3
  },
  "orig_nbformat": 2
 },
 "nbformat": 4,
 "nbformat_minor": 2,
 "cells": [
  {
   "cell_type": "code",
   "execution_count": null,
   "metadata": {},
   "outputs": [],
   "source": [
    "\"\"\"Звездный прямоугольник 1\n",
    "Напишите функцию draw_box(), которая выводит звездный прямоугольник с размерами 14×10 в соответствии с образцом:\n",
    "\n",
    "**********\n",
    "*        *\n",
    "*        *\n",
    "*        *\n",
    "*        *\n",
    "*        *\n",
    "*        *\n",
    "*        *\n",
    "*        *\n",
    "*        *\n",
    "*        *\n",
    "*        *\n",
    "*        *\n",
    "**********\n",
    "Примечание. Для вывода прямоугольника используйте цикл for.  \"\"\"\n",
    "\n",
    "# объявление функции\n",
    "def draw_box():\n",
    "    print('*' * 10)\n",
    "    for i in range(12):\n",
    "        print('*' + ' ' * 8 + '*')\n",
    "    print('*' * 10)\n",
    "\n",
    "# основная программа\n",
    "draw_box()  # вызов функции"
   ]
  },
  {
   "cell_type": "code",
   "execution_count": null,
   "metadata": {},
   "outputs": [],
   "source": [
    "\"\"\"Звездный треугольник 1\n",
    "Напишите функцию draw_triangle(), которая выводит звездный прямоугольный треугольник с катетами, равными 10 в соответствии с образцом:\n",
    "\n",
    "*\n",
    "**\n",
    "***\n",
    "****\n",
    "*****\n",
    "******\n",
    "*******\n",
    "********\n",
    "*********\n",
    "**********\n",
    "Примечание. Для вывода треугольника используйте цикл for.  \"\"\"\n",
    "\n",
    "# объявление функции\n",
    "def draw_box():\n",
    "    for i in range(1,11):\n",
    "        print('*' * i)\n",
    "\n",
    "# основная программа\n",
    "draw_box()  # вызов функции"
   ]
  }
 ]
}