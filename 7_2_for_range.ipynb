{
 "metadata": {
  "language_info": {
   "codemirror_mode": {
    "name": "ipython",
    "version": 3
   },
   "file_extension": ".py",
   "mimetype": "text/x-python",
   "name": "python",
   "nbconvert_exporter": "python",
   "pygments_lexer": "ipython3",
   "version": 3
  },
  "orig_nbformat": 2
 },
 "nbformat": 4,
 "nbformat_minor": 2,
 "cells": [
  {
   "cell_type": "code",
   "execution_count": null,
   "metadata": {},
   "outputs": [],
   "source": [
    "\"\"\"Последовательность чисел 1\n",
    "Даны два целых числа  и n( m ≤n). Напишите программу, которая выводит все числа от mm до nn включительно.\n",
    "\n",
    "Формат входных данных\n",
    "На вход программе подаются два целых числа m и n, каждое на отдельной строке.\"\"\"\n",
    "\n",
    "m, n = int(input()), int(input())\n",
    "for i in range(m ,n+1):\n",
    "    print(i)"
   ]
  },
  {
   "cell_type": "code",
   "execution_count": null,
   "metadata": {},
   "outputs": [],
   "source": [
    "\"\"\"Последовательность чисел 2 🌶️\n",
    "Даны два целых числа mm и nn. Напишите программу, которая выводит все числа от m до n включительно в порядке возрастания, если m < n, или в порядке убывания в противном случае.\n",
    "\n",
    "Формат входных данных\n",
    "На вход программе подаются два целых числа mm и nn, каждое на отдельной строке.\"\"\"\n",
    "\n",
    "m, n = int(input()), int(input())\n",
    "if m < n:\n",
    "    for i in range(m ,n+1):\n",
    "        print(i)\n",
    "else:\n",
    "    for i in range(m ,n-1, -1):\n",
    "        print(i)"
   ]
  },
  {
   "cell_type": "code",
   "execution_count": null,
   "metadata": {},
   "outputs": [],
   "source": [
    "\"\"\"Последовательность чисел 3 🌶️\n",
    "Даны два целых числа m и n (m > n). Напишите программу, которая выводит все нечетные числа от m до n включительно в порядке убывания.\n",
    "\n",
    "Формат входных данных\n",
    "На вход программе подаются два целых числа m и n, каждое на отдельной строке.\"\"\"\n",
    "\n",
    "m, n = int(input()), int(input())\n",
    "for i in range(m ,n-1, -1):\n",
    "    if i % 2 == 1:\n",
    "        print(i)"
   ]
  },
  {
   "cell_type": "code",
   "execution_count": null,
   "metadata": {},
   "outputs": [],
   "source": [
    "\"\"\"Последовательность чисел 4\n",
    "Даны два натуральных числа m и n ( m ≤n). Напишите программу, которая выводит все числа от m до n включительно удовлетворяющие хотя бы одному из условий:\n",
    "\n",
    "число кратно 17;\n",
    "число оканчивается на 9;\n",
    "число кратно 3 и 5 одновременно.\n",
    "Формат входных данных\n",
    "На вход программе подаются два натуральных числа mm и nn (m ≤n), каждое на отдельной строке.\"\"\"\n",
    "\n",
    "m, n = int(input()), int(input())\n",
    "for i in range(m ,n + 1):\n",
    "    if i % 17 == 0 or i % 10 == 9 or (i % 3 == 0 and i % 5 == 0) :\n",
    "        print(i)"
   ]
  },
  {
   "cell_type": "code",
   "execution_count": null,
   "metadata": {},
   "outputs": [],
   "source": [
    "\"\"\"Таблица умножения\n",
    "Дано натуральное число n. Напишите программу, которая выводит таблицу умножения на n.\n",
    "\n",
    "Формат входных данных\n",
    "На вход программе подается натуральное число.\"\"\"\n",
    "\n",
    "a = int(input())\n",
    "for i in range(1, 11):\n",
    "    print(a, 'x', i, '=', a*i)"
   ]
  }
 ]
}