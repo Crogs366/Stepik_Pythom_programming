{
 "cells": [
  {
   "cell_type": "code",
   "execution_count": null,
   "metadata": {},
   "outputs": [],
   "source": [
    "Напишите программу, которая выводит прямоугольник, по периметру состоящий из звездочек (*).\n",
    "\n",
    "Примечание. Высота и ширина прямоугольника равны 4 и 17 звёздочкам соответственно."
   ]
  },
  {
   "cell_type": "code",
   "execution_count": null,
   "metadata": {},
   "outputs": [],
   "source": [
    "print('*' * 17)\n",
    "print('*', '*' , sep ='               ')\n",
    "print('*', '*' , sep ='               ')\n",
    "print('*' * 17)"
   ]
  },
  {
   "cell_type": "code",
   "execution_count": null,
   "metadata": {},
   "outputs": [],
   "source": [
    "Напишите программу, которая считывает два целых числа aa и bb и выводит на экран квадрат суммы (a+b)^2 и сумму квадратов a^2+b^2 этих чисел."
   ]
  },
  {
   "cell_type": "code",
   "execution_count": null,
   "metadata": {},
   "outputs": [],
   "source": [
    "a = int(input())\n",
    "b = int(input())\n",
    "kvsum = (a + b)**2\n",
    "sumkv = a**2 + b **2\n",
    "print('Квадрат суммы', a, 'и', b, 'равен', kvsum)\n",
    "print('Сумма квадратов', a, 'и', b, 'равна', sumkv)"
   ]
  },
  {
   "cell_type": "code",
   "execution_count": null,
   "metadata": {},
   "outputs": [],
   "source": [
    "Напишите программу, которая считывает четыре целых положительных числа a, b, c, ,d и выводит на экран значение выражения a^b + c^d."
   ]
  },
  {
   "cell_type": "code",
   "execution_count": null,
   "metadata": {},
   "outputs": [],
   "source": [
    "a = int(input())\n",
    "b = int(input())\n",
    "c = int(input())\n",
    "d = int(input())\n",
    "sum = a**b + c**d\n",
    "print(sum)"
   ]
  },
  {
   "cell_type": "code",
   "execution_count": null,
   "metadata": {},
   "outputs": [],
   "source": [
    "Напишите программу, которая считывает целое положительное число n, n ∈[1;9] и выводит значение числа n + nn + nnn."
   ]
  },
  {
   "cell_type": "code",
   "execution_count": null,
   "metadata": {},
   "outputs": [],
   "source": [
    "n = int(input())\n",
    "sum = n + int(str(n)+str(n)) + int(str(n) + str(n) + str(n))\n",
    "print(sum) "
   ]
  }
 ],
 "metadata": {
  "language_info": {
   "codemirror_mode": {
    "name": "ipython",
    "version": 3
   },
   "file_extension": ".py",
   "mimetype": "text/x-python",
   "name": "python",
   "nbconvert_exporter": "python",
   "pygments_lexer": "ipython3",
   "version": 3
  },
  "orig_nbformat": 2
 },
 "nbformat": 4,
 "nbformat_minor": 2
}